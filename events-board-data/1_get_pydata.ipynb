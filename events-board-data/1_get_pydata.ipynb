{
 "cells": [
  {
   "cell_type": "markdown",
   "id": "b9e3deab",
   "metadata": {},
   "source": [
    "### Reference\n",
    "- Ty's notebook:  https://github.com/ty-shaikh/scraping_poshmark_webinar/blob/master/1-scraping_poshmark_listings.ipynb\n",
    "\n",
    "### Data Sources\n",
    "1. NumFOCUS PyData events:  https://pydata.org/upcoming-events/\n",
    "2. PSF:  https://www.python.org/events/python-events/\n",
    "3. ASA: https://community.amstat.org/events/calendar\n"
   ]
  },
  {
   "cell_type": "code",
   "execution_count": 11,
   "id": "381ac674",
   "metadata": {},
   "outputs": [],
   "source": [
    "from requests import get\n",
    "from pprint import pprint\n",
    "from bs4 import BeautifulSoup\n",
    "import pandas as pd"
   ]
  },
  {
   "cell_type": "code",
   "execution_count": 2,
   "id": "40a8e350",
   "metadata": {},
   "outputs": [],
   "source": [
    "url = \"https://pydata.org/upcoming-events/\"\n",
    "url = \"https://www.python.org/events/python-events/\"\n",
    "response = get(url)\n",
    "\n",
    "#print(response)\n",
    "#print(response.text[:500])\n",
    "#print(response.text)"
   ]
  },
  {
   "cell_type": "markdown",
   "id": "dcddbe05",
   "metadata": {},
   "source": [
    "#### sample event\n",
    "\n",
    "```\n",
    "                            <span class=\"event-location\">Online</span>\n",
    "                            \n",
    "                        </p>\n",
    "                    </li>\n",
    "                \n",
    "                    <li>\n",
    "                        <h3 class=\"event-title\"><a href=\"/events/python-events/1326/\">PyData Global 2022</a></h3>\n",
    "                        <p>\n",
    "                            \n",
    "                            \n",
    "<time datetime=\"2022-12-01T00:00:00+00:00\">01 Dec. &ndash; 03 Dec. <span class=\"say-no-more\"> 2022</span></time>\n",
    "```"
   ]
  },
  {
   "cell_type": "code",
   "execution_count": 3,
   "id": "c21d629e",
   "metadata": {},
   "outputs": [],
   "source": [
    "html_soup = BeautifulSoup(response.text, 'html.parser')\n",
    "#type(html_soup)"
   ]
  },
  {
   "cell_type": "code",
   "execution_count": 7,
   "id": "93abad17",
   "metadata": {},
   "outputs": [
    {
     "name": "stdout",
     "output_type": "stream",
     "text": [
      "<class 'list'>\n",
      "<class 'list'>\n",
      "<class 'list'>\n",
      "<class 'list'>\n",
      "<class 'list'>\n",
      "<class 'list'>\n",
      "<class 'list'>\n",
      "<class 'list'>\n",
      "['Pyjamas Conf 2022',\n",
      " 'PyData Global 2022',\n",
      " 'PyCon Bolivia 2022',\n",
      " 'PyCon Namibia 2023',\n",
      " 'GeoPython 2023',\n",
      " 'PyCon DE & PyData Berlin 2023',\n",
      " 'PyChain 2022',\n",
      " 'PyCon Ireland 2022']\n",
      "<class 'list'>\n",
      "<class 'list'>\n",
      "<class 'list'>\n",
      "<class 'list'>\n",
      "<class 'list'>\n",
      "<class 'list'>\n",
      "<class 'list'>\n",
      "<class 'list'>\n",
      "['Online',\n",
      " 'Online',\n",
      " 'Cochabamba, Bolivia',\n",
      " 'Windhoek, Namibia',\n",
      " 'Basel, Switzerland',\n",
      " 'Berlin, Germany',\n",
      " 'online',\n",
      " 'Dublin, Ireland']\n",
      "<class 'list'>\n",
      "<class 'list'>\n",
      "<class 'list'>\n",
      "<class 'list'>\n",
      "<class 'list'>\n",
      "<class 'list'>\n",
      "<class 'list'>\n",
      "<class 'list'>\n",
      "['26 Nov. – 27 Nov.  2022',\n",
      " '01 Dec. – 03 Dec.  2022',\n",
      " '09 Dec. – 10 Dec.  2022',\n",
      " '21 Feb. – 23 Feb.  2023',\n",
      " '06 March – 08 March  2023',\n",
      " '17 April – 19 April  2023',\n",
      " '15 Nov. 2022',\n",
      " '12 Nov. – 13 Nov.  2022']\n"
     ]
    }
   ],
   "source": [
    "event_titles = html_soup.find_all('h3', class_ = 'event-title')\n",
    "event_locations = html_soup.find_all('span', class_ = 'event-location')\n",
    "event_times = html_soup.find_all('time') \n",
    "\n",
    "\n",
    "def get_item(detail):\n",
    "    event_list= []\n",
    "    counter = -1\n",
    "    for item in detail:\n",
    "        counter+=1\n",
    "        time = detail[counter].text.replace('USD','').strip()\n",
    "        #print(time)\n",
    "        event_list.append(time)\n",
    "        #print(type(event_list))\n",
    "    return event_list\n",
    "\n",
    "\n",
    "event_title = get_item(event_titles)\n",
    "pprint(event_title) \n",
    "\n",
    "event_location = get_item(event_locations)\n",
    "pprint(event_location) \n",
    "\n",
    "event_date = get_item(event_times)\n",
    "pprint(event_date) "
   ]
  },
  {
   "cell_type": "code",
   "execution_count": 9,
   "id": "4d82da6d",
   "metadata": {},
   "outputs": [
    {
     "data": {
      "text/plain": [
       "['Pyjamas Conf 2022,Online',\n",
       " 'PyData Global 2022,Online',\n",
       " 'PyCon Bolivia 2022,Cochabamba, Bolivia',\n",
       " 'PyCon Namibia 2023,Windhoek, Namibia',\n",
       " 'GeoPython 2023,Basel, Switzerland',\n",
       " 'PyCon DE & PyData Berlin 2023,Berlin, Germany',\n",
       " 'PyChain 2022,online',\n",
       " 'PyCon Ireland 2022,Dublin, Ireland']"
      ]
     },
     "execution_count": 9,
     "metadata": {},
     "output_type": "execute_result"
    }
   ],
   "source": [
    "# using list comprehension + zip()\n",
    "# interlist element concatenation\n",
    "res = [i + \",\" + j for i, j in zip(event_title, event_location)]\n",
    "res"
   ]
  },
  {
   "cell_type": "code",
   "execution_count": 19,
   "id": "901528d2",
   "metadata": {},
   "outputs": [
    {
     "data": {
      "text/html": [
       "<div>\n",
       "<style scoped>\n",
       "    .dataframe tbody tr th:only-of-type {\n",
       "        vertical-align: middle;\n",
       "    }\n",
       "\n",
       "    .dataframe tbody tr th {\n",
       "        vertical-align: top;\n",
       "    }\n",
       "\n",
       "    .dataframe thead th {\n",
       "        text-align: right;\n",
       "    }\n",
       "</style>\n",
       "<table border=\"1\" class=\"dataframe\">\n",
       "  <thead>\n",
       "    <tr style=\"text-align: right;\">\n",
       "      <th></th>\n",
       "      <th>event_name</th>\n",
       "      <th>event_location</th>\n",
       "      <th>start_date</th>\n",
       "    </tr>\n",
       "  </thead>\n",
       "  <tbody>\n",
       "    <tr>\n",
       "      <th>0</th>\n",
       "      <td>Pyjamas Conf 2022</td>\n",
       "      <td>Online</td>\n",
       "      <td>26 Nov. – 27 Nov.  2022</td>\n",
       "    </tr>\n",
       "    <tr>\n",
       "      <th>1</th>\n",
       "      <td>PyData Global 2022</td>\n",
       "      <td>Online</td>\n",
       "      <td>01 Dec. – 03 Dec.  2022</td>\n",
       "    </tr>\n",
       "    <tr>\n",
       "      <th>2</th>\n",
       "      <td>PyCon Bolivia 2022</td>\n",
       "      <td>Cochabamba, Bolivia</td>\n",
       "      <td>09 Dec. – 10 Dec.  2022</td>\n",
       "    </tr>\n",
       "    <tr>\n",
       "      <th>3</th>\n",
       "      <td>PyCon Namibia 2023</td>\n",
       "      <td>Windhoek, Namibia</td>\n",
       "      <td>21 Feb. – 23 Feb.  2023</td>\n",
       "    </tr>\n",
       "    <tr>\n",
       "      <th>4</th>\n",
       "      <td>GeoPython 2023</td>\n",
       "      <td>Basel, Switzerland</td>\n",
       "      <td>06 March – 08 March  2023</td>\n",
       "    </tr>\n",
       "    <tr>\n",
       "      <th>5</th>\n",
       "      <td>PyCon DE &amp; PyData Berlin 2023</td>\n",
       "      <td>Berlin, Germany</td>\n",
       "      <td>17 April – 19 April  2023</td>\n",
       "    </tr>\n",
       "    <tr>\n",
       "      <th>6</th>\n",
       "      <td>PyChain 2022</td>\n",
       "      <td>online</td>\n",
       "      <td>15 Nov. 2022</td>\n",
       "    </tr>\n",
       "    <tr>\n",
       "      <th>7</th>\n",
       "      <td>PyCon Ireland 2022</td>\n",
       "      <td>Dublin, Ireland</td>\n",
       "      <td>12 Nov. – 13 Nov.  2022</td>\n",
       "    </tr>\n",
       "  </tbody>\n",
       "</table>\n",
       "</div>"
      ],
      "text/plain": [
       "                      event_name       event_location  \\\n",
       "0              Pyjamas Conf 2022               Online   \n",
       "1             PyData Global 2022               Online   \n",
       "2             PyCon Bolivia 2022  Cochabamba, Bolivia   \n",
       "3             PyCon Namibia 2023    Windhoek, Namibia   \n",
       "4                 GeoPython 2023   Basel, Switzerland   \n",
       "5  PyCon DE & PyData Berlin 2023      Berlin, Germany   \n",
       "6                   PyChain 2022               online   \n",
       "7             PyCon Ireland 2022      Dublin, Ireland   \n",
       "\n",
       "                  start_date  \n",
       "0    26 Nov. – 27 Nov.  2022  \n",
       "1    01 Dec. – 03 Dec.  2022  \n",
       "2    09 Dec. – 10 Dec.  2022  \n",
       "3    21 Feb. – 23 Feb.  2023  \n",
       "4  06 March – 08 March  2023  \n",
       "5  17 April – 19 April  2023  \n",
       "6               15 Nov. 2022  \n",
       "7    12 Nov. – 13 Nov.  2022  "
      ]
     },
     "execution_count": 19,
     "metadata": {},
     "output_type": "execute_result"
    }
   ],
   "source": [
    "import pandas as pd\n",
    "my_dict=dict(event_name=event_title, event_location=event_location, start_date=event_date) # Set column ordering here\n",
    "my_df=pd.DataFrame.from_dict(my_dict)\n",
    "\n",
    "my_df"
   ]
  },
  {
   "cell_type": "code",
   "execution_count": null,
   "id": "2985ae05",
   "metadata": {},
   "outputs": [],
   "source": []
  },
  {
   "cell_type": "code",
   "execution_count": 5,
   "id": "86e92f5b",
   "metadata": {},
   "outputs": [
    {
     "ename": "SyntaxError",
     "evalue": "Missing parentheses in call to 'print'. Did you mean print(x)? (3945978432.py, line 1)",
     "output_type": "error",
     "traceback": [
      "\u001b[0;36m  File \u001b[0;32m\"/var/folders/f5/4hllfzqx6pq2sfm22_khf5400000gn/T/ipykernel_37099/3945978432.py\"\u001b[0;36m, line \u001b[0;32m1\u001b[0m\n\u001b[0;31m    print x\u001b[0m\n\u001b[0m          ^\u001b[0m\n\u001b[0;31mSyntaxError\u001b[0m\u001b[0;31m:\u001b[0m Missing parentheses in call to 'print'. Did you mean print(x)?\n"
     ]
    }
   ],
   "source": [
    "print x"
   ]
  },
  {
   "cell_type": "code",
   "execution_count": null,
   "id": "e6911ff1",
   "metadata": {},
   "outputs": [],
   "source": []
  },
  {
   "cell_type": "code",
   "execution_count": null,
   "id": "71259280",
   "metadata": {},
   "outputs": [],
   "source": []
  },
  {
   "cell_type": "markdown",
   "id": "f186a679",
   "metadata": {},
   "source": [
    "---"
   ]
  },
  {
   "cell_type": "code",
   "execution_count": null,
   "id": "82216c80",
   "metadata": {},
   "outputs": [],
   "source": []
  },
  {
   "cell_type": "code",
   "execution_count": null,
   "id": "4b14599f",
   "metadata": {},
   "outputs": [],
   "source": [
    "event_titles = html_soup.find_all('h3', class_ = 'event-title')\n",
    "\n",
    "#print(type(event_titles))\n",
    "#print(len(event_titles))\n",
    "\n",
    "counter = -1\n",
    "for location in event_titles:\n",
    "    counter+=1\n",
    "    print(event_titles[counter].text.replace('USD','').strip())"
   ]
  },
  {
   "cell_type": "code",
   "execution_count": null,
   "id": "d703f7ca",
   "metadata": {},
   "outputs": [],
   "source": [
    "events_titles"
   ]
  },
  {
   "cell_type": "code",
   "execution_count": null,
   "id": "f05151df",
   "metadata": {},
   "outputs": [],
   "source": [
    "# 2) Location\n",
    "\n",
    "event_locations = html_soup.find_all('span', class_ = 'event-location')\n",
    "\n",
    "#print(type(event_locations))\n",
    "#print(len(event_locations))\n",
    "#pprint(event_locations)\n",
    "\n",
    "counter = -1\n",
    "for location in event_locations:\n",
    "    counter+=1\n",
    "    print(event_locations[counter].text.replace('USD','').strip())"
   ]
  },
  {
   "cell_type": "code",
   "execution_count": null,
   "id": "a7246965",
   "metadata": {},
   "outputs": [],
   "source": [
    "#print(type(event_times))"
   ]
  },
  {
   "cell_type": "code",
   "execution_count": null,
   "id": "a1b22aab",
   "metadata": {},
   "outputs": [],
   "source": [
    "# 3) times\n",
    "\n",
    "event_times = html_soup.find_all('time') #, class_ = 'event-location')\n",
    "\n",
    "#print(type(event_times))\n",
    "#print(len(event_times))\n",
    "#pprint(event_times)\n",
    "\n",
    "event_list= []\n",
    "counter = -1\n",
    "for location in event_times:\n",
    "    counter+=1\n",
    "    time = event_times[counter].text.replace('USD','').strip()\n",
    "    #print(time)\n",
    "    event_list.append(time)\n",
    "    \n",
    "pprint(event_list)"
   ]
  },
  {
   "cell_type": "code",
   "execution_count": null,
   "id": "b7ad8de6",
   "metadata": {},
   "outputs": [],
   "source": [
    "event_titles = html_soup.find_all('h3', class_ = 'event-title')\n",
    "event_locations = html_soup.find_all('span', class_ = 'event-location')\n",
    "event_times = html_soup.find_all('time') \n",
    "\n",
    "\n",
    "def get_item(detail):\n",
    "    event_list= []\n",
    "    counter = -1\n",
    "    for item in detail:\n",
    "        counter+=1\n",
    "        time = detail[counter].text.replace('USD','').strip()\n",
    "        #print(time)\n",
    "        event_list.append(time)\n",
    "    return event_list\n",
    "\n",
    "\n",
    "event_title = get_item(event_titles)\n",
    "pprint(event_title) \n",
    "\n",
    "event_location = get_item(event_locations)\n",
    "pprint(event_location) \n",
    "\n",
    "event_date = get_item(event_times)\n",
    "pprint(event_date) \n"
   ]
  },
  {
   "cell_type": "code",
   "execution_count": null,
   "id": "54bf9158",
   "metadata": {},
   "outputs": [],
   "source": [
    "header = ['event_name', 'event_location', 'event_dates']\n",
    "data = ['Afghanistan', 652090, 'AF', 'AFG']"
   ]
  },
  {
   "cell_type": "code",
   "execution_count": null,
   "id": "58fc3ea6",
   "metadata": {},
   "outputs": [],
   "source": [
    "import csv\n",
    "\n",
    "# open the file in the write mode\n",
    "f = open('path/to/csv_file', 'w')\n",
    "\n",
    "# create the csv writer\n",
    "writer = csv.writer(f)\n",
    "\n",
    "# write a row to the csv file\n",
    "writer.writerow(row)\n",
    "\n",
    "# close the file\n",
    "f.close()"
   ]
  }
 ],
 "metadata": {
  "kernelspec": {
   "display_name": "Python 3 (ipykernel)",
   "language": "python",
   "name": "python3"
  },
  "language_info": {
   "codemirror_mode": {
    "name": "ipython",
    "version": 3
   },
   "file_extension": ".py",
   "mimetype": "text/x-python",
   "name": "python",
   "nbconvert_exporter": "python",
   "pygments_lexer": "ipython3",
   "version": "3.9.7"
  }
 },
 "nbformat": 4,
 "nbformat_minor": 5
}
